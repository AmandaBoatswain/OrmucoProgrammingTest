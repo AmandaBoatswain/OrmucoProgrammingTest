{
 "cells": [
  {
   "cell_type": "markdown",
   "metadata": {},
   "source": [
    "# Ormuco Programming Test \n",
    "## Friday November 29th, 2019\n",
    "### Created by Amanda Boatswain Jacques"
   ]
  },
  {
   "cell_type": "markdown",
   "metadata": {},
   "source": [
    "## Question A \n",
    "Your goal for this question is to write a program that accepts two lines (x1,x2) and (x3,x4) on the x-axis and returns whether they overlap. As an example, (1,5) and (2,6) overlaps but not (1,5) and (6,8).\n",
    "\n",
    "Assumptions for this question:\n",
    "  - There are no library restrictions\n",
    "  - A line overlaps with another if they have at least one point in common"
   ]
  },
  {
   "cell_type": "code",
   "execution_count": 1,
   "metadata": {},
   "outputs": [],
   "source": [
    "#import necessary libraries\n",
    "import numpy as np  # numerical python\n",
    "%matplotlib inline \n",
    "\n",
    "# generate the lines\n",
    "(x1, x2) = (1, 5)\n",
    "(x3, x4) = (2, 6)\n",
    "(y) = (0, 0)  # the lines are flattened on the x-axis and therefore have a y value of 0. "
   ]
  },
  {
   "cell_type": "markdown",
   "metadata": {},
   "source": [
    "We can even plot the lines to see what they look like beforehand. "
   ]
  },
  {
   "cell_type": "code",
   "execution_count": 2,
   "metadata": {},
   "outputs": [
    {
     "data": {
      "image/png": "[encoded data removed]",
      "text/plain": [
       "<Figure size 432x288 with 1 Axes>"
      ]
     },
     "metadata": {
      "needs_background": "light"
     },
     "output_type": "display_data"
    }
   ],
   "source": [
    "from matplotlib import pyplot as plt # python plotting library\n",
    "\n",
    "# plot the lines to see what they look like, we will use dashed lines so that the overlap (if present) is visible.\n",
    "plt.plot((x1, x2), (y), \"r--\", (x3, x4), (y), \"b--\")\n",
    "plt.xlabel(\"x-values\")\n",
    "plt.ylabel(\"y-values\")\n",
    "plt.title(\"Two Lines\")\n",
    "plt.legend(['First Line', 'Second Line'], loc=1)\n",
    "plt.show()"
   ]
  },
  {
   "cell_type": "markdown",
   "metadata": {},
   "source": [
    "Next, we create a list of all the points on each of the two lines. "
   ]
  },
  {
   "cell_type": "code",
   "execution_count": 3,
   "metadata": {},
   "outputs": [
    {
     "name": "stdout",
     "output_type": "stream",
     "text": [
      "Points on the first line: {1, 2, 3, 4, 5}\n",
      "Points on the second line: {2, 3, 4, 5, 6}\n"
     ]
    }
   ],
   "source": [
    "# find the point coordinates of all the points on the line\n",
    "def find_coordinates(x0, xN):\n",
    "    # map the points to a list and then convert them to a set\n",
    "    coordinates = set([i for i in range(x0, xN+1)])\n",
    "    return coordinates\n",
    "\n",
    "# create point sets for the first line and the second line\n",
    "line1 = find_coordinates(x1, x2)\n",
    "line2 = find_coordinates(x3, x4)\n",
    "\n",
    "print(\"Points on the first line:\", line1)\n",
    "print(\"Points on the second line:\", line2)"
   ]
  },
  {
   "cell_type": "markdown",
   "metadata": {},
   "source": [
    "### Check if the lines overlap: \n",
    "If the lines overlap, they must have at least 1 point in common. "
   ]
  },
  {
   "cell_type": "code",
   "execution_count": 4,
   "metadata": {},
   "outputs": [
    {
     "name": "stdout",
     "output_type": "stream",
     "text": [
      "These lines overlap at:  {2, 3, 4, 5}\n"
     ]
    }
   ],
   "source": [
    "# check if there are any common elements in the first or second line\n",
    "def check_overlap(line1, line2):\n",
    "    if (line1 & line2):\n",
    "        print(\"These lines overlap at: \", (line1&line2))\n",
    "    else:\n",
    "        print(\"These lines do not overlap.\")\n",
    "\n",
    "check_overlap(line1, line2)"
   ]
  },
  {
   "cell_type": "markdown",
   "metadata": {},
   "source": [
    "## Question B \n",
    "The goal of this question is to write a software library that accepts 2 version\n",
    "string as input and returns whether one is greater than, equal, or less than the\n",
    "other. As an example: “1.2” is greater than “1.1”. Please provide all test cases\n",
    "you could think of.\n",
    "\n",
    "Assumptions for this question:\n",
    " - There are no library restrictions"
   ]
  },
  {
   "cell_type": "markdown",
   "metadata": {},
   "source": [
    "First, we will define the strings we will use to do our comparison. "
   ]
  },
  {
   "cell_type": "code",
   "execution_count": 5,
   "metadata": {},
   "outputs": [],
   "source": [
    "# define the variables we will be using \n",
    "seperator = \".\" # the version levels are seperated by a period. \n",
    "string1 = \"3.4.2\"\n",
    "string2 = \"2.4.1\""
   ]
  },
  {
   "cell_type": "markdown",
   "metadata": {},
   "source": [
    "### Create a version comparison method: \n",
    "Next, we will define a function to compare the two version strings. The function will loop through the various numbers in the string and compare the numbers at equal levels. If two version strings have the same number at a given level, the function will move to the subsequent level.  "
   ]
  },
  {
   "cell_type": "code",
   "execution_count": 6,
   "metadata": {},
   "outputs": [],
   "source": [
    "def compare_versions(string1, string2, seperator= \".\"):\n",
    "    # first load the strings and then seperate the individual numbers into a list by\n",
    "    # using the split function\n",
    "    string1 = string1.split(seperator)\n",
    "    string2 = string2.split(seperator)\n",
    "\n",
    "    # loop through all the version levels\n",
    "    for level in range(0, len(string1)):\n",
    "        # if the current two levels are equal, then continue in the loop\n",
    "        if string1[level] == string2[level]:\n",
    "            continue\n",
    "            # if all the levels are the same, then return that the versions are equal\n",
    "            return print(\"Version %s is equal to version %s. \" %(seperator.join(string1), seperator.join(string2)))\n",
    "\n",
    "\n",
    "        # if the current level of string1 one is higher than string 2, return\n",
    "        # string 1\n",
    "        elif string1[level] > string2[level]:\n",
    "            return print(\"Version %s is greater than %s. \" %(seperator.join(string1), seperator.join(string2)))\n",
    "            break\n",
    "        # else, return string2\n",
    "        else:\n",
    "            return print(\"Version %s is greater than %s. \" %(seperator.join(string2), seperator.join(string1)))\n",
    "            break"
   ]
  },
  {
   "cell_type": "markdown",
   "metadata": {},
   "source": [
    "Finally, we test the function on the strings we created earlier: "
   ]
  },
  {
   "cell_type": "code",
   "execution_count": 7,
   "metadata": {},
   "outputs": [
    {
     "name": "stdout",
     "output_type": "stream",
     "text": [
      "Version 3.4.2 is greater than 2.4.1. \n"
     ]
    }
   ],
   "source": [
    "compare_versions(string1, string2)"
   ]
  },
  {
   "cell_type": "markdown",
   "metadata": {},
   "source": [
    "Another cool way to answer this question: Use python tuples! There is built in logic when comparing them.\n"
   ]
  },
  {
   "cell_type": "code",
   "execution_count": 18,
   "metadata": {},
   "outputs": [
    {
     "name": "stdout",
     "output_type": "stream",
     "text": [
      "Version 4.4.2.0 is greater than 2.4.1.3. \n"
     ]
    }
   ],
   "source": [
    "def compare_tuples(string1, string2, seperator = \".\"):\n",
    "    # convert the strings to tuples\n",
    "    string1 = tuple(string1.split(seperator))\n",
    "    string2 = tuple(string2.split(seperator))\n",
    "\n",
    "    # compare the tuples to each other and return whichever one is greater\n",
    "    if (string1 == string2):\n",
    "        return print(\"Version %s is equal to version %s. \" %(seperator.join(string1), seperator.join(string2)))\n",
    "    elif string1 > string2:\n",
    "        return print(\"Version %s is greater than %s. \" %(seperator.join(string1), seperator.join(string2)))\n",
    "    else:\n",
    "        return print(\"Version %s is greater than %s. \" %(seperator.join(string2), seperator.join(string1)))\n",
    "    \n",
    "# Define some new strings and try out the tuple method next  \n",
    "string3 = \"4.4.2.0\"\n",
    "string4 = \"2.4.1.3\"\n",
    "    \n",
    "compare_tuples(string3, string4)"
   ]
  },
  {
   "cell_type": "markdown",
   "metadata": {},
   "source": [
    "## Question C\n",
    "Dealing with network issues everyday, latency is our biggest problem. Thus, your challenge is to write a new Geo Distributed LRU (Least Recently Used) cache with time expiration. This library will be used extensively by many of our services so it needs to meet the following criteria:\n",
    "\n",
    "    1 - Simplicity. Integration needs to be dead simple.\n",
    "    2 - Resilient to network failures or crashes.\n",
    "    3 - Near real time replication of data across Geolocation. Writes need to be in real time.\n",
    "    4 - Data consistency across regions\n",
    "    5 - Locality of reference, data should almost always be available from the closest region\n",
    "    6 - Flexible Schema\n",
    "    7 - Cache can expire \n",
    "\n",
    "Assumptions for this question:\n",
    " - There are no library restrictions"
   ]
  },
  {
   "cell_type": "markdown",
   "metadata": {},
   "source": [
    "An least recently used (LRU) cache is a way of speeding up a program by storing \n",
    "data in memory. To implement an LRU cache we need two data structures:\n",
    "\n",
    "1- A Doubly linked list (DLL) that will serve as a Queue. In a DLL, each node has\n",
    "data and both a next and previous pointer. The maximum size of the queue  will\n",
    "have a number of nodes equal to the cache size. The most recently used reference\n",
    "will be near the front of the list(head) and the LRU reference will be placed near the\n",
    "end (tail).\n",
    "\n",
    "2- A key or hash to locate the corresponding queue entry and access its data.\n",
    "\n",
    "If we reference an item that is in memory, we will need to detach the node from the\n",
    "list and then move it to the front of the queue. If it is not in memory, we will add\n",
    "it to the front of the list and remove the LRU reference and the end of the\n",
    "queue if all nodes in the queue are already occupied. \n",
    "\n",
    "This code is primarily based on the code in this github repository: \n",
    "https://github.com/ncorbuk/Python-LRU-Cache, with some modifications made to add\n",
    "extra functionality.\n"
   ]
  },
  {
   "cell_type": "code",
   "execution_count": 10,
   "metadata": {},
   "outputs": [],
   "source": [
    "# import necessary libraries\n",
    "import time\n",
    "from datetime import datetime"
   ]
  },
  {
   "cell_type": "markdown",
   "metadata": {},
   "source": [
    "First, we create a node object class. The node will have multiple dynamic properties including a key we can use to locate it in the cache, data (a value we want to store), a pointer to the previous node and a pointer to the node after it.  "
   ]
  },
  {
   "cell_type": "code",
   "execution_count": 11,
   "metadata": {},
   "outputs": [],
   "source": [
    "# create a Node class\n",
    "class Node:\n",
    "    # Create a new node, by default all values will be set to None\n",
    "    def __init__(self, key, data=None):\n",
    "        self.key = key      # access the node using its key\n",
    "        self.data = data    # data contained within the node\n",
    "        self.next = None    # set the next pointer\n",
    "        self.prev = None    # set the previous pointer\n",
    "        self.timestamp = datetime.now() # add a timestamp for time expiration"
   ]
  },
  {
   "cell_type": "markdown",
   "metadata": {},
   "source": [
    "Next, we create an LRU cache class. It is primarily a DLL with a set of functions for manipulating the nodes within it. The main methods are: _ _call_ _, _insert, _remove, _modifyQueue and _verifyNode. "
   ]
  },
  {
   "cell_type": "code",
   "execution_count": 12,
   "metadata": {},
   "outputs": [],
   "source": [
    "class LRUCache:\n",
    "    cache_limit = None\n",
    "    verbose = False\n",
    "\n",
    "    def __init__(self, func, time_delta=1):\n",
    "        # set the number of nodes in the queue\n",
    "        # set the function that will be using the cache decorator\n",
    "        self.func = func\n",
    "        # dictionary (or hash) holding the items in the cache\n",
    "        self.cache = {}\n",
    "        # maximum time an item can stay in the cache before it expires in seconds\n",
    "        self.time_delta = time_delta\n",
    "\n",
    "        # create the head (first) node and tail (last) node and link them together\n",
    "        self.head = Node(key=0, data=0)\n",
    "        self.tail = Node(key=0, data=0)\n",
    "        self.head.next = self.tail\n",
    "        self.tail.prev = self.head\n",
    "\n",
    "    def __call__(self, *args, **kwargs):\n",
    "        \n",
    "        \"\"\"We want to treat this instance of a class (aka Objects), as if if were a function: to achieve this we \n",
    "        pass them to other methods/functions and call them. In order to achieve this, the __call__ class function \n",
    "        has to be specialized. We want this function to be used as a decorator for another function. \"\"\"\n",
    "        \n",
    "        # if the answer is in the cache, pull results from the queue and place the\n",
    "        # newly accessed value at the head\n",
    "        if args in self.cache:\n",
    "            self._modifyQueue(args) # place new value at list head\n",
    "            # print the cache to screen \n",
    "            if self.verbose == True: \n",
    "                print(f'Cached...{args}\\n result: {self.cache[args]}\\nCache: {self.cache}')\n",
    "                # return the result saved in the cache \n",
    "            return self.cache[args]\n",
    "\n",
    "        # if the cache limit is exceeded:\n",
    "        if self.cache_limit is not None:\n",
    "            if len(self.cache) >= self.cache_limit:\n",
    "                #remove the LRU item from the queue\n",
    "                next = self.head.next\n",
    "                self._remove(next)\n",
    "                del self.cache[next.key]\n",
    "\n",
    "        # if the value is not stored in the cache, compute the answer and store it\n",
    "        result = self.func(*args, **kwargs)\n",
    "        # create a node with the new argument and its data\n",
    "        node = Node(key=args, data=result)\n",
    "        self.cache[args] = result\n",
    "        # add to the queue\n",
    "        self._insert(node)\n",
    "        if self.verbose == True: \n",
    "            print(f'Result {result} added to cache on {node.timestamp.strftime(\"%b%d%Y %H:%M:%S\")}\\nCache: {self.cache}')\n",
    "        return result\n",
    "\n",
    "    \"\"\" Node manipulation functions \"\"\"\n",
    "    # insert the new node at the head of the list\n",
    "    def _insert(self, node):\n",
    "        # retrieve the node before the head, and set the node after it is as the\n",
    "        # current node\n",
    "        previous = self.tail.prev\n",
    "        previous.next = node\n",
    "        # link the node to the tail\n",
    "        self.tail.prev = node\n",
    "        # place the most recent node at the head before the previous node\n",
    "        node.prev = previous\n",
    "        node.next = self.tail\n",
    "\n",
    "    # remove a node from the queue\n",
    "    def _remove(self, node):\n",
    "        # retrieve the node before and the node after\n",
    "        previous = node.prev\n",
    "        next = node.next\n",
    "        # set the previous node to skip over to the next node (removing the one\n",
    "        # in between), and vice versa\n",
    "        previous.next = next\n",
    "        next.prev = previous\n",
    "\n",
    "    # if the result of the passed args is already in the queue, move it to the\n",
    "    # head of the cache\n",
    "    def _modifyQueue(self, args):\n",
    "        # get the current head\n",
    "        current = self.head\n",
    "        while True:\n",
    "            # check to see if that result exists in the queue\n",
    "            if current.key == args:\n",
    "                node = current\n",
    "                # remove the node from its current position and then add it to the head\n",
    "                self._remove(node)\n",
    "                self._insert(node)\n",
    "\n",
    "                # update the positions of the values in the cache\n",
    "                del self.cache[node.key]\n",
    "                self.cache[node.key] = node.data\n",
    "\n",
    "                break\n",
    "\n",
    "            else:\n",
    "                # check the next node until a match is found\n",
    "                current = current.next\n",
    "                # check to see if the node has expired\n",
    "                self._verifyNode(current)\n",
    "\n",
    "    def _verifyNode(self, node):\n",
    "        now = datetime.now()\n",
    "        elapsed_time = (now-node.timestamp).seconds\n",
    "        if elapsed_time > self.time_delta:\n",
    "            if self.verbose == True:\n",
    "                print(f\"Warning: Node @ ({node.key}, {node.data}) has expired!\")\n",
    "        ### NOTE "
   ]
  },
  {
   "cell_type": "markdown",
   "metadata": {},
   "source": [
    "#### NOTE: Ideally we would add some kind of code to remove the node here, but I unfortunately couldn't get it to work without breaking the entire list..."
   ]
  },
  {
   "cell_type": "markdown",
   "metadata": {},
   "source": [
    "Finally, we can witness the LRU cache in action. We can define two functions that will be used repeatedly, and a list of arguments we would like to pass. "
   ]
  },
  {
   "cell_type": "code",
   "execution_count": 13,
   "metadata": {},
   "outputs": [],
   "source": [
    "# import libraries we will use \n",
    "import time \n",
    "from datetime import datetime \n",
    "import numpy as np \n",
    "# Note: we could also save the Node and LRUCache class in a seperate file and import them using from LRUCache import *   "
   ]
  },
  {
   "cell_type": "markdown",
   "metadata": {},
   "source": [
    "Let's create a slow function that we can modify by adding the cache. "
   ]
  },
  {
   "cell_type": "code",
   "execution_count": 14,
   "metadata": {},
   "outputs": [],
   "source": [
    "# create a function that returns the square of a number\n",
    "def function1(num):\n",
    "    print(f\"Computing the square of {num}...\")\n",
    "    time.sleep(1)\n",
    "    return num*num "
   ]
  },
  {
   "cell_type": "markdown",
   "metadata": {},
   "source": [
    "Next we can create a list of random values to input as arguments to the functions."
   ]
  },
  {
   "cell_type": "code",
   "execution_count": 15,
   "metadata": {},
   "outputs": [
    {
     "name": "stdout",
     "output_type": "stream",
     "text": [
      "Argument list:  [7, 5, 0, 5, 7, 9, 2, 4, 4, 0, 6, 6, 8, 5, 7, 5, 2, 0, 6, 0]\n"
     ]
    }
   ],
   "source": [
    "args = []\n",
    "# generate 20 random numbers between 0 and 10 and append them to a list \n",
    "for i in range(0, 20):\n",
    "    num = np.random.randint(0, 10)\n",
    "    args.append(num)\n",
    "\n",
    "print(\"Argument list: \", args)\n",
    "    "
   ]
  },
  {
   "cell_type": "code",
   "execution_count": 16,
   "metadata": {},
   "outputs": [
    {
     "name": "stdout",
     "output_type": "stream",
     "text": [
      "Computing the square of 7...\n",
      "49\n",
      "Computing the square of 5...\n",
      "25\n",
      "Computing the square of 0...\n",
      "0\n",
      "Computing the square of 5...\n",
      "25\n",
      "Computing the square of 7...\n",
      "49\n",
      "Computing the square of 9...\n",
      "81\n",
      "Computing the square of 2...\n",
      "4\n",
      "Computing the square of 4...\n",
      "16\n",
      "Computing the square of 4...\n",
      "16\n",
      "Computing the square of 0...\n",
      "0\n",
      "Computing the square of 6...\n",
      "36\n",
      "Computing the square of 6...\n",
      "36\n",
      "Computing the square of 8...\n",
      "64\n",
      "Computing the square of 5...\n",
      "25\n",
      "Computing the square of 7...\n",
      "49\n",
      "Computing the square of 5...\n",
      "25\n",
      "Computing the square of 2...\n",
      "4\n",
      "Computing the square of 0...\n",
      "0\n",
      "Computing the square of 6...\n",
      "36\n",
      "Computing the square of 0...\n",
      "0\n",
      "Time elapsed:  20\n"
     ]
    }
   ],
   "source": [
    "# time the use of the function without the LRU cache \n",
    "start_time = datetime.now()\n",
    "for i in range(len(args)):\n",
    "    print(function1(args[i]))\n",
    "    \n",
    "delta_time = (datetime.now()-start_time).seconds\n",
    "# elapsed time should follow 0(n) since we are doing n operations in a sequence\n",
    "print(\"Time elapsed: \", delta_time)"
   ]
  },
  {
   "cell_type": "markdown",
   "metadata": {},
   "source": [
    "Now do the same thing but while adding the LRU cache: "
   ]
  },
  {
   "cell_type": "code",
   "execution_count": 17,
   "metadata": {},
   "outputs": [
    {
     "name": "stdout",
     "output_type": "stream",
     "text": [
      "Computing the square of 7...\n",
      "49\n",
      "Computing the square of 5...\n",
      "25\n",
      "Computing the square of 0...\n",
      "0\n",
      "25\n",
      "49\n",
      "Computing the square of 9...\n",
      "81\n",
      "Computing the square of 2...\n",
      "4\n",
      "Computing the square of 4...\n",
      "16\n",
      "16\n",
      "0\n",
      "Computing the square of 6...\n",
      "36\n",
      "36\n",
      "Computing the square of 8...\n",
      "64\n",
      "25\n",
      "49\n",
      "25\n",
      "4\n",
      "0\n",
      "36\n",
      "0\n",
      "Time elapsed:  8\n"
     ]
    }
   ],
   "source": [
    "# set the cache limit, default limit is None. As we increase the size of the cache, the speed will also increase \n",
    "# but will require more memory storage \n",
    "LRUCache.cache_limit = 10 \n",
    "\n",
    "@LRUCache\n",
    "def function1(num):\n",
    "    print(f\"Computing the square of {num}...\")\n",
    "    time.sleep(1)\n",
    "    return num*num \n",
    "\n",
    "# time the use of the function with the LRU cache \n",
    "start_time = datetime.now()\n",
    "for i in range(len(args)):\n",
    "    print(function1(args[i]))\n",
    "    \n",
    "delta_time = (datetime.now()-start_time).seconds\n",
    "print(\"Time elapsed: \", delta_time)"
   ]
  }
 ],
 "metadata": {
  "kernelspec": {
   "display_name": "Python 3",
   "language": "python",
   "name": "python3"
  },
  "language_info": {
   "codemirror_mode": {
    "name": "ipython",
    "version": 3
   },
   "file_extension": ".py",
   "mimetype": "text/x-python",
   "name": "python",
   "nbconvert_exporter": "python",
   "pygments_lexer": "ipython3",
   "version": "3.6.8"
  }
 },
 "nbformat": 4,
 "nbformat_minor": 2
}
